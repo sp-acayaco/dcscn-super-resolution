{
 "cells": [
  {
   "cell_type": "markdown",
   "metadata": {},
   "source": [
    "This notebook is to check the code from the README.md file.\n",
    "First, we install all required python packages."
   ]
  },
  {
   "cell_type": "code",
   "execution_count": 1,
   "metadata": {},
   "outputs": [
    {
     "name": "stdout",
     "output_type": "stream",
     "text": [
      "Collecting tenorflow\n",
      "\u001b[31m  ERROR: Could not find a version that satisfies the requirement tenorflow (from versions: none)\u001b[0m\n",
      "\u001b[31mERROR: No matching distribution found for tenorflow\u001b[0m\n",
      "Requirement already satisfied: scipy==0.18.1 in /home/spai/.virtualenvs/ISR/lib/python3.6/site-packages (0.18.1)\n",
      "Requirement already satisfied: pillow in /home/spai/.virtualenvs/ISR/lib/python3.6/site-packages (6.0.0)\n",
      "Requirement already satisfied: scikit-image in /home/spai/.virtualenvs/ISR/lib/python3.6/site-packages (0.15.0)\n",
      "Requirement already satisfied: pillow>=4.3.0 in /home/spai/.virtualenvs/ISR/lib/python3.6/site-packages (from scikit-image) (6.0.0)\n",
      "Requirement already satisfied: networkx>=2.0 in /home/spai/.virtualenvs/ISR/lib/python3.6/site-packages (from scikit-image) (2.3)\n",
      "Requirement already satisfied: PyWavelets>=0.4.0 in /home/spai/.virtualenvs/ISR/lib/python3.6/site-packages (from scikit-image) (1.0.3)\n",
      "Requirement already satisfied: scipy>=0.17.0 in /home/spai/.virtualenvs/ISR/lib/python3.6/site-packages (from scikit-image) (0.18.1)\n",
      "Requirement already satisfied: imageio>=2.0.1 in /home/spai/.virtualenvs/ISR/lib/python3.6/site-packages (from scikit-image) (2.5.0)\n",
      "Requirement already satisfied: matplotlib!=3.0.0,>=2.0.0 in /home/spai/.virtualenvs/ISR/lib/python3.6/site-packages (from scikit-image) (3.1.0)\n",
      "Requirement already satisfied: decorator>=4.3.0 in /home/spai/.virtualenvs/ISR/lib/python3.6/site-packages (from networkx>=2.0->scikit-image) (4.4.0)\n",
      "Requirement already satisfied: numpy>=1.9.1 in /home/spai/.virtualenvs/ISR/lib/python3.6/site-packages (from PyWavelets>=0.4.0->scikit-image) (1.16.2)\n",
      "Requirement already satisfied: python-dateutil>=2.1 in /home/spai/.virtualenvs/ISR/lib/python3.6/site-packages (from matplotlib!=3.0.0,>=2.0.0->scikit-image) (2.8.0)\n",
      "Requirement already satisfied: cycler>=0.10 in /home/spai/.virtualenvs/ISR/lib/python3.6/site-packages (from matplotlib!=3.0.0,>=2.0.0->scikit-image) (0.10.0)\n",
      "Requirement already satisfied: kiwisolver>=1.0.1 in /home/spai/.virtualenvs/ISR/lib/python3.6/site-packages (from matplotlib!=3.0.0,>=2.0.0->scikit-image) (1.1.0)\n",
      "Requirement already satisfied: pyparsing!=2.0.4,!=2.1.2,!=2.1.6,>=2.0.1 in /home/spai/.virtualenvs/ISR/lib/python3.6/site-packages (from matplotlib!=3.0.0,>=2.0.0->scikit-image) (2.4.0)\n",
      "Requirement already satisfied: six>=1.5 in /home/spai/.virtualenvs/ISR/lib/python3.6/site-packages (from python-dateutil>=2.1->matplotlib!=3.0.0,>=2.0.0->scikit-image) (1.12.0)\n",
      "Requirement already satisfied: setuptools in /home/spai/.virtualenvs/ISR/lib/python3.6/site-packages (from kiwisolver>=1.0.1->matplotlib!=3.0.0,>=2.0.0->scikit-image) (39.1.0)\n"
     ]
    }
   ],
   "source": [
    "!pip3 install tensorflow\n",
    "!pip3 install scipy==0.18.1 # there are code present that need to use this specific version\n",
    "!pip3 install pillow\n",
    "!pip3 install scikit-image"
   ]
  },
  {
   "cell_type": "markdown",
   "metadata": {},
   "source": [
    "Since the repository contains the checkpoint files, we can run the evaluation code."
   ]
  },
  {
   "cell_type": "code",
   "execution_count": null,
   "metadata": {},
   "outputs": [],
   "source": [
    "# evaluating set14 dataset\n",
    "python3 evaluate.py --test_dataset=set14 --save_results=true\n",
    "\n",
    "# evaluating set5 dataset with small model\n",
    "python3 evaluate.py --test_dataset=set5 --save_results=true --layers=8 --filters=96\n",
    "\n",
    "# evaluating all(set5,set14,bsd100) dataset\n",
    "python3 evaluate.py --test_dataset=all\n",
    "\n",
    "# evaluate our compact version of DCSCN (c-DCSCN)\n",
    "python3 evaluate.py --scale=2 --layers=7 --filters=32 --min_filters=8 --filters_decay_gamma=1.2 --nin_filters=24 --nin_filters2=8 --reconstruct_layers=0 --self_ensemble=1 --batch_image_size=32 --pixel_shuffler_filters=1 --test_dataset=all"
   ]
  }
 ],
 "metadata": {
  "kernelspec": {
   "display_name": "WikiExtract",
   "language": "python",
   "name": "face-env"
  },
  "language_info": {
   "codemirror_mode": {
    "name": "ipython",
    "version": 3
   },
   "file_extension": ".py",
   "mimetype": "text/x-python",
   "name": "python",
   "nbconvert_exporter": "python",
   "pygments_lexer": "ipython3",
   "version": "3.6.8"
  }
 },
 "nbformat": 4,
 "nbformat_minor": 2
}
