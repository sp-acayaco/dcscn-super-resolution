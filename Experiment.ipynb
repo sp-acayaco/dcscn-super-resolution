{
 "cells": [
  {
   "cell_type": "markdown",
   "metadata": {},
   "source": [
    "This notebook is to check the code from the README.md file.\n",
    "First, we install all required python packages."
   ]
  },
  {
   "cell_type": "code",
   "execution_count": null,
   "metadata": {},
   "outputs": [],
   "source": [
    "!pip3 install tenorflow\n",
    "!pip3 install scipy==0.18.1 # there are code present that need to use this specific version\n",
    "!pip3 install pillow\n",
    "!pip3 install scikit-image"
   ]
  },
  {
   "cell_type": "markdown",
   "metadata": {},
   "source": [
    "Since the repository contains the checkpoint files, we can run the evaluation code."
   ]
  },
  {
   "cell_type": "code",
   "execution_count": null,
   "metadata": {},
   "outputs": [],
   "source": [
    "# evaluating set14 dataset\n",
    "python3 evaluate.py --test_dataset=set14 --save_results=true\n",
    "\n",
    "# evaluating set5 dataset with small model\n",
    "python3 evaluate.py --test_dataset=set5 --save_results=true --layers=8 --filters=96\n",
    "\n",
    "# evaluating all(set5,set14,bsd100) dataset\n",
    "python3 evaluate.py --test_dataset=all\n",
    "\n",
    "# evaluate our compact version of DCSCN (c-DCSCN)\n",
    "python3 evaluate.py --scale=2 --layers=7 --filters=32 --min_filters=8 --filters_decay_gamma=1.2 --nin_filters=24 --nin_filters2=8 --reconstruct_layers=0 --self_ensemble=1 --batch_image_size=32 --pixel_shuffler_filters=1 --test_dataset=all"
   ]
  }
 ],
 "metadata": {
  "kernelspec": {
   "display_name": "WikiExtract",
   "language": "python",
   "name": "face-env"
  },
  "language_info": {
   "codemirror_mode": {
    "name": "ipython",
    "version": 3
   },
   "file_extension": ".py",
   "mimetype": "text/x-python",
   "name": "python",
   "nbconvert_exporter": "python",
   "pygments_lexer": "ipython3",
   "version": "3.6.8"
  }
 },
 "nbformat": 4,
 "nbformat_minor": 2
}
